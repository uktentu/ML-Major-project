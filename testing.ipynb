{
 "cells": [
  {
   "cell_type": "code",
   "execution_count": 34,
   "metadata": {},
   "outputs": [],
   "source": [
    "import cv2\n",
    "import numpy as np\n",
    "from keras.models import load_model"
   ]
  },
  {
   "cell_type": "code",
   "execution_count": 42,
   "metadata": {},
   "outputs": [],
   "source": [
    "# Load your pre-trained model\n",
    "model = load_model('3D_cnn_action_classifier.h5')  # Replace with the path to your model file\n",
    "\n",
    "# Define the class names\n",
    "class_names = ['boxing', 'handclapping', 'handwaving', 'jogging', 'running', 'walking']\n",
    "\n",
    "# Open the video file\n",
    "video_path = 'person01_boxing_d1_uncomp.avi'  # Replace with the path to your video file\n",
    "cap = cv2.VideoCapture(video_path)"
   ]
  },
  {
   "cell_type": "code",
   "execution_count": 43,
   "metadata": {},
   "outputs": [],
   "source": [
    "frames = []\n",
    "predictions = []\n",
    "\n",
    "# Ensure your model's input shape matches this\n",
    "img_rows, img_cols, img_depth = 16, 16, 15\n"
   ]
  },
  {
   "cell_type": "code",
   "execution_count": 48,
   "metadata": {},
   "outputs": [
    {
     "ename": "AxisError",
     "evalue": "axis 2 is out of bounds for array of dimension 2",
     "output_type": "error",
     "traceback": [
      "\u001b[0;31m---------------------------------------------------------------------------\u001b[0m",
      "\u001b[0;31mAxisError\u001b[0m                                 Traceback (most recent call last)",
      "\u001b[1;32m/Users/udaykirantentu/Desktop/Major project/testing.ipynb Cell 4\u001b[0m line \u001b[0;36m2\n\u001b[1;32m     <a href='vscode-notebook-cell:/Users/udaykirantentu/Desktop/Major%20project/testing.ipynb#W5sZmlsZQ%3D%3D?line=17'>18</a>\u001b[0m frame \u001b[39m=\u001b[39m cv2\u001b[39m.\u001b[39mresize(frame, (img_rows, img_cols), interpolation\u001b[39m=\u001b[39mcv2\u001b[39m.\u001b[39mINTER_AREA)\n\u001b[1;32m     <a href='vscode-notebook-cell:/Users/udaykirantentu/Desktop/Major%20project/testing.ipynb#W5sZmlsZQ%3D%3D?line=18'>19</a>\u001b[0m gray \u001b[39m=\u001b[39m cv2\u001b[39m.\u001b[39mcvtColor(frame, cv2\u001b[39m.\u001b[39mCOLOR_BGR2GRAY)\n\u001b[0;32m---> <a href='vscode-notebook-cell:/Users/udaykirantentu/Desktop/Major%20project/testing.ipynb#W5sZmlsZQ%3D%3D?line=19'>20</a>\u001b[0m input_frame \u001b[39m=\u001b[39m np\u001b[39m.\u001b[39mrollaxis(np\u001b[39m.\u001b[39;49mrollaxis(gray, \u001b[39m2\u001b[39;49m, \u001b[39m0\u001b[39;49m), \u001b[39m2\u001b[39m, \u001b[39m0\u001b[39m)  \u001b[39m# Adjust dimensions\u001b[39;00m\n\u001b[1;32m     <a href='vscode-notebook-cell:/Users/udaykirantentu/Desktop/Major%20project/testing.ipynb#W5sZmlsZQ%3D%3D?line=20'>21</a>\u001b[0m input_frame \u001b[39m=\u001b[39m input_frame\u001b[39m.\u001b[39mastype(\u001b[39m'\u001b[39m\u001b[39mfloat32\u001b[39m\u001b[39m'\u001b[39m)\n\u001b[1;32m     <a href='vscode-notebook-cell:/Users/udaykirantentu/Desktop/Major%20project/testing.ipynb#W5sZmlsZQ%3D%3D?line=21'>22</a>\u001b[0m input_frame \u001b[39m-\u001b[39m\u001b[39m=\u001b[39m np\u001b[39m.\u001b[39mmean(input_frame)\n",
      "File \u001b[0;32m<__array_function__ internals>:180\u001b[0m, in \u001b[0;36mrollaxis\u001b[0;34m(*args, **kwargs)\u001b[0m\n",
      "File \u001b[0;32m/Library/Frameworks/Python.framework/Versions/3.11/lib/python3.11/site-packages/numpy/core/numeric.py:1330\u001b[0m, in \u001b[0;36mrollaxis\u001b[0;34m(a, axis, start)\u001b[0m\n\u001b[1;32m   1259\u001b[0m \u001b[39m\u001b[39m\u001b[39m\"\"\"\u001b[39;00m\n\u001b[1;32m   1260\u001b[0m \u001b[39mRoll the specified axis backwards, until it lies in a given position.\u001b[39;00m\n\u001b[1;32m   1261\u001b[0m \n\u001b[0;32m   (...)\u001b[0m\n\u001b[1;32m   1327\u001b[0m \n\u001b[1;32m   1328\u001b[0m \u001b[39m\"\"\"\u001b[39;00m\n\u001b[1;32m   1329\u001b[0m n \u001b[39m=\u001b[39m a\u001b[39m.\u001b[39mndim\n\u001b[0;32m-> 1330\u001b[0m axis \u001b[39m=\u001b[39m normalize_axis_index(axis, n)\n\u001b[1;32m   1331\u001b[0m \u001b[39mif\u001b[39;00m start \u001b[39m<\u001b[39m \u001b[39m0\u001b[39m:\n\u001b[1;32m   1332\u001b[0m     start \u001b[39m+\u001b[39m\u001b[39m=\u001b[39m n\n",
      "\u001b[0;31mAxisError\u001b[0m: axis 2 is out of bounds for array of dimension 2"
     ]
    }
   ],
   "source": [
    "import cv2\n",
    "import numpy as np\n",
    "from keras.models import load_model\n",
    "\n",
    "# Load your pretrained model\n",
    "model = load_model('3D_cnn_action_classifier.h5')\n",
    "\n",
    "# Define the image dimensions (img_rows, img_cols, img_depth)\n",
    "img_rows, img_cols, img_depth = 16, 16, 15\n",
    "\n",
    "# Open the camera feed\n",
    "cap = cv2.VideoCapture(1)  # Use 0 for the default camera, change to the camera index you need\n",
    "\n",
    "while True:\n",
    "    ret, frame = cap.read()\n",
    "\n",
    "    # Preprocess the frame\n",
    "    frame = cv2.resize(frame, (img_rows, img_cols), interpolation=cv2.INTER_AREA)\n",
    "    gray = cv2.cvtColor(frame, cv2.COLOR_BGR2GRAY)\n",
    "    input_frame = np.rollaxis(np.rollaxis(gray, 2, 0), 2, 0)  # Adjust dimensions\n",
    "    input_frame = input_frame.astype('float32')\n",
    "    input_frame -= np.mean(input_frame)\n",
    "    input_frame /= np.max(input_frame)\n",
    "\n",
    "    # Make predictions\n",
    "    input_frame = np.expand_dims(input_frame, axis=0)  # Add batch dimension\n",
    "    y_pred = model.predict(input_frame)\n",
    "\n",
    "    # Post-process the predictions (e.g., convert to class label)\n",
    "    action_label = class_names[y_pred]  # Implement this based on your model output\n",
    "\n",
    "    # Display the action label on the frame\n",
    "    cv2.putText(frame, action_label, (10, 30), cv2.FONT_HERSHEY_SIMPLEX, 1, (0, 255, 0), 2)\n",
    "\n",
    "    # Show the frame\n",
    "    cv2.imshow('Action Recognition', frame)\n",
    "\n",
    "    # Press 'q' to exit the loop\n",
    "    if cv2.waitKey(1) & 0xFF == ord('q'):\n",
    "        break\n",
    "\n",
    "# Release the camera and close OpenCV windows\n",
    "cap.release()\n",
    "cv2.destroyAllWindows()\n"
   ]
  },
  {
   "cell_type": "code",
   "execution_count": null,
   "metadata": {},
   "outputs": [],
   "source": []
  }
 ],
 "metadata": {
  "kernelspec": {
   "display_name": "Python 3",
   "language": "python",
   "name": "python3"
  },
  "language_info": {
   "codemirror_mode": {
    "name": "ipython",
    "version": 3
   },
   "file_extension": ".py",
   "mimetype": "text/x-python",
   "name": "python",
   "nbconvert_exporter": "python",
   "pygments_lexer": "ipython3",
   "version": "3.11.0"
  }
 },
 "nbformat": 4,
 "nbformat_minor": 2
}
